{
 "cells": [
  {
   "cell_type": "code",
   "execution_count": null,
   "id": "d5fc0967-376c-4c88-b5b5-91ce67299539",
   "metadata": {},
   "outputs": [],
   "source": []
  }
 ],
 "metadata": {
  "kernelspec": {
   "display_name": "",
   "name": ""
  },
  "language_info": {
   "name": ""
  }
 },
 "nbformat": 4,
 "nbformat_minor": 5
}
